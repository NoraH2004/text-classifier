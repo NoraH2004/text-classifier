{
 "cells": [
  {
   "cell_type": "markdown",
   "metadata": {},
   "source": [
    "# ABSA Task\n",
    "\n",
    "Restaurant Review Dataset\n",
    "\n",
    "TODO: \n",
    "1. Learn Aspects\n",
    "2. Find Aspects in Sentencens\n",
    "3. Find Polarity for each Aspect\n",
    "\n",
    "Model: \n",
    "a. Aspect Category Classifier\n",
    "b. Sentiment Model"
   ]
  },
  {
   "cell_type": "code",
   "execution_count": 125,
   "metadata": {},
   "outputs": [],
   "source": [
    "import nltk\n",
    "from nltk.tokenize import sent_tokenize\n",
    "from nltk.tokenize import word_tokenize\n",
    "from nltk.probability import FreqDist\n",
    "import matplotlib.pyplot as plt\n",
    "from nltk.corpus import stopwords\n",
    "from nltk.stem import PorterStemmer\n",
    "from nltk.tokenize import sent_tokenize, word_tokenize\n",
    "\n",
    "import pandas as pd\n",
    "\n",
    "from sklearn.feature_extraction.text import CountVectorizer\n",
    "from nltk.tokenize import RegexpTokenizer\n",
    "\n",
    "from sklearn.model_selection import train_test_split\n",
    "\n",
    "from sklearn.naive_bayes import MultinomialNB\n",
    "from sklearn import metrics\n",
    "\n",
    "from sklearn.feature_extraction.text import TfidfVectorizer"
   ]
  },
  {
   "cell_type": "markdown",
   "metadata": {},
   "source": [
    "# Tokanization"
   ]
  },
  {
   "cell_type": "markdown",
   "metadata": {},
   "source": [
    "### Sentence tokanziation"
   ]
  },
  {
   "cell_type": "code",
   "execution_count": 75,
   "metadata": {},
   "outputs": [],
   "source": [
    "text = \"\"\"hello, my name is Nora. I hope I will soon be able to classify text. The weather is brilliant today. Corona is everywhere. I just want to go outside and do stuff. But I still do  but allone. But in generall people shouldn't go outside. once corona is over we can for sure go outside again. \"\"\""
   ]
  },
  {
   "cell_type": "code",
   "execution_count": 76,
   "metadata": {},
   "outputs": [
    {
     "name": "stdout",
     "output_type": "stream",
     "text": [
      "['hello, my name is Nora.', 'I hope I will soon be able to classify text.', 'The weather is brilliant today.', 'Corona is everywhere.', 'I just want to go outside and do stuff.', 'But I still do  but allone.', \"But in generall people shouldn't go outside.\", 'once corona is over we can for sure go outside again.']\n"
     ]
    }
   ],
   "source": [
    "tokenized_sent = sent_tokenize(text)\n",
    "print(tokenized_sent)"
   ]
  },
  {
   "cell_type": "markdown",
   "metadata": {},
   "source": [
    "### Word tokanization"
   ]
  },
  {
   "cell_type": "code",
   "execution_count": 77,
   "metadata": {},
   "outputs": [
    {
     "name": "stdout",
     "output_type": "stream",
     "text": [
      "['hello', ',', 'my', 'name', 'is', 'Nora', '.', 'I', 'hope', 'I', 'will', 'soon', 'be', 'able', 'to', 'classify', 'text', '.', 'The', 'weather', 'is', 'brilliant', 'today', '.', 'Corona', 'is', 'everywhere', '.', 'I', 'just', 'want', 'to', 'go', 'outside', 'and', 'do', 'stuff', '.', 'But', 'I', 'still', 'do', 'but', 'allone', '.', 'But', 'in', 'generall', 'people', 'should', \"n't\", 'go', 'outside', '.', 'once', 'corona', 'is', 'over', 'we', 'can', 'for', 'sure', 'go', 'outside', 'again', '.']\n"
     ]
    }
   ],
   "source": [
    "tokenized_word = word_tokenize(text)\n",
    "print(tokenized_word)"
   ]
  },
  {
   "cell_type": "markdown",
   "metadata": {},
   "source": [
    "### Frequency Distribution"
   ]
  },
  {
   "cell_type": "code",
   "execution_count": 78,
   "metadata": {},
   "outputs": [
    {
     "name": "stdout",
     "output_type": "stream",
     "text": [
      "<FreqDist with 46 samples and 66 outcomes>\n"
     ]
    }
   ],
   "source": [
    "fqdistr = FreqDist(tokenized_word)\n",
    "print(fqdistr)"
   ]
  },
  {
   "cell_type": "code",
   "execution_count": 79,
   "metadata": {},
   "outputs": [
    {
     "data": {
      "text/plain": [
       "[('.', 8), ('is', 4), ('I', 4), ('go', 3), ('outside', 3)]"
      ]
     },
     "execution_count": 79,
     "metadata": {},
     "output_type": "execute_result"
    }
   ],
   "source": [
    "fqdistr.most_common(5)"
   ]
  },
  {
   "cell_type": "code",
   "execution_count": 80,
   "metadata": {},
   "outputs": [
    {
     "data": {
      "image/png": "[encoded data removed]",
      "text/plain": [
       "<Figure size 432x288 with 1 Axes>"
      ]
     },
     "metadata": {
      "needs_background": "light"
     },
     "output_type": "display_data"
    }
   ],
   "source": [
    "fqdistr.plot(15, cumulative=False)\n",
    "plt.show()"
   ]
  },
  {
   "cell_type": "markdown",
   "metadata": {},
   "source": [
    "## Stopwords"
   ]
  },
  {
   "cell_type": "code",
   "execution_count": null,
   "metadata": {},
   "outputs": [],
   "source": []
  },
  {
   "cell_type": "code",
   "execution_count": 81,
   "metadata": {},
   "outputs": [
    {
     "name": "stdout",
     "output_type": "stream",
     "text": [
      "{'once', 'over', 'which', 'doesn', 've', 'she', 'be', 'but', 'through', 'these', 'so', 'am', 'the', \"won't\", 'as', 'further', 'until', 'themselves', 'hers', 'is', 'have', 'ourselves', 'from', 'off', 'such', 'only', 'an', 'our', \"you're\", 'about', 'were', 'a', 'or', 'their', 'and', 'are', 'you', \"shan't\", 'd', 'had', 'no', 'how', 'yourselves', 'up', 'having', 'than', 'does', 'will', 'm', 'down', 'very', 'i', \"wouldn't\", 'above', 'couldn', 'should', 'below', 'don', 'him', 'out', 'more', 'ma', \"aren't\", 'has', 'theirs', 'itself', 'in', \"you'd\", 'other', 'o', 'while', 'on', 's', 'me', 'now', \"doesn't\", \"should've\", 'doing', 'wouldn', 'them', 'it', 'mightn', 'her', 'yourself', 'by', 'after', \"couldn't\", 'when', 're', \"mustn't\", \"shouldn't\", \"you'll\", 'not', 'he', 'this', 'whom', 'before', \"mightn't\", 't', 'during', 'yours', 'if', \"wasn't\", 'too', 'because', 'myself', \"that'll\", 'ain', 'then', 'for', 'won', 'we', 'ours', \"you've\", \"she's\", 'did', 'hasn', 'mustn', 'into', 'that', \"weren't\", 'those', 'again', 'any', 'aren', 'y', 'herself', 'didn', 'll', 'to', 'shouldn', 'who', 'most', 'what', 'between', 'where', 'haven', 'was', 'they', \"isn't\", \"needn't\", 'against', 'isn', 'hadn', 'there', 'at', 'your', 'do', 'my', 'under', 'of', 'himself', 'nor', 'its', 'own', 'weren', \"it's\", 'with', 'being', 'why', 'same', 'some', 'needn', 'both', \"haven't\", 'wasn', 'all', \"don't\", 'been', \"hasn't\", \"hadn't\", 'shan', 'each', 'can', 'his', 'here', 'just', \"didn't\", 'few'}\n"
     ]
    },
    {
     "name": "stderr",
     "output_type": "stream",
     "text": [
      "[nltk_data] Downloading package stopwords to /home/nora/nltk_data...\n",
      "[nltk_data]   Package stopwords is already up-to-date!\n"
     ]
    }
   ],
   "source": [
    "nltk.download('stopwords')\n",
    "stop_words = set(stopwords.words(\"english\"))\n",
    "print(stop_words)"
   ]
  },
  {
   "cell_type": "markdown",
   "metadata": {},
   "source": [
    "### Filter Stopwords "
   ]
  },
  {
   "cell_type": "code",
   "execution_count": 82,
   "metadata": {},
   "outputs": [
    {
     "name": "stdout",
     "output_type": "stream",
     "text": [
      "Tokenized Sentence: ['hello, my name is Nora.', 'I hope I will soon be able to classify text.', 'The weather is brilliant today.', 'Corona is everywhere.', 'I just want to go outside and do stuff.', 'But I still do  but allone.', \"But in generall people shouldn't go outside.\", 'once corona is over we can for sure go outside again.'] \n",
      "\n",
      "Filterd Sentence: ['hello, my name is Nora.', 'I hope I will soon be able to classify text.', 'The weather is brilliant today.', 'Corona is everywhere.', 'I just want to go outside and do stuff.', 'But I still do  but allone.', \"But in generall people shouldn't go outside.\", 'once corona is over we can for sure go outside again.']\n"
     ]
    }
   ],
   "source": [
    "filtered_sent = []\n",
    "for w in tokenized_sent:\n",
    "    if w not in stop_words:\n",
    "        filtered_sent.append(w)\n",
    "print(\"Tokenized Sentence:\",tokenized_sent, \"\\n\")\n",
    "print(\"Filterd Sentence:\",filtered_sent)"
   ]
  },
  {
   "cell_type": "code",
   "execution_count": 83,
   "metadata": {},
   "outputs": [
    {
     "name": "stdout",
     "output_type": "stream",
     "text": [
      "<FreqDist with 8 samples and 8 outcomes>\n"
     ]
    }
   ],
   "source": [
    "fqdistr = FreqDist(filtered_sent)\n",
    "print(fqdistr)"
   ]
  },
  {
   "cell_type": "markdown",
   "metadata": {},
   "source": [
    "### Stemming - linguistic normalization"
   ]
  },
  {
   "cell_type": "code",
   "execution_count": 86,
   "metadata": {},
   "outputs": [],
   "source": [
    "ps = PorterStemmer ()"
   ]
  },
  {
   "cell_type": "code",
   "execution_count": 90,
   "metadata": {},
   "outputs": [
    {
     "name": "stdout",
     "output_type": "stream",
     "text": [
      "Filtered Sentence: ['hello, my name is Nora.', 'I hope I will soon be able to classify text.', 'The weather is brilliant today.', 'Corona is everywhere.', 'I just want to go outside and do stuff.', 'But I still do  but allone.', \"But in generall people shouldn't go outside.\", 'once corona is over we can for sure go outside again.'] \n",
      "\n",
      "Stemmed Sentence: ['hello, my name is nora.', 'i hope i will soon be able to classify text.', 'the weather is brilliant today.', 'corona is everywhere.', 'i just want to go outside and do stuff.', 'but i still do  but allone.', \"but in generall people shouldn't go outside.\", 'once corona is over we can for sure go outside again.']\n"
     ]
    }
   ],
   "source": [
    "stemmed_words = []\n",
    "for w in filtered_sent:\n",
    "    stemmed_words.append(ps.stem(w))\n",
    "    \n",
    "print(\"Filtered Sentence:\",filtered_sent, \"\\n\")\n",
    "print(\"Stemmed Sentence:\",stemmed_words)"
   ]
  },
  {
   "cell_type": "markdown",
   "metadata": {},
   "source": [
    "# Text Classification"
   ]
  },
  {
   "cell_type": "markdown",
   "metadata": {},
   "source": [
    "## 1. Dataset\n",
    "\n",
    "Sentiment Analysis of Movie Reivews form Kaggle\n",
    "Columns:\n",
    "1. PhraseId\n",
    "2. SentenceId\n",
    "3. Phrase\n",
    "4. Sentiment\n",
    "\n",
    "5 Sentiment Labels: 0 - negative to 4 - positive"
   ]
  },
  {
   "cell_type": "code",
   "execution_count": 101,
   "metadata": {},
   "outputs": [],
   "source": [
    "# load datase\n",
    "data = pd.read_csv('train.tsv', sep='\\t')"
   ]
  },
  {
   "cell_type": "code",
   "execution_count": 94,
   "metadata": {},
   "outputs": [
    {
     "data": {
      "text/html": [
       "<div>\n",
       "<style scoped>\n",
       "    .dataframe tbody tr th:only-of-type {\n",
       "        vertical-align: middle;\n",
       "    }\n",
       "\n",
       "    .dataframe tbody tr th {\n",
       "        vertical-align: top;\n",
       "    }\n",
       "\n",
       "    .dataframe thead th {\n",
       "        text-align: right;\n",
       "    }\n",
       "</style>\n",
       "<table border=\"1\" class=\"dataframe\">\n",
       "  <thead>\n",
       "    <tr style=\"text-align: right;\">\n",
       "      <th></th>\n",
       "      <th>PhraseId</th>\n",
       "      <th>SentenceId</th>\n",
       "      <th>Phrase</th>\n",
       "      <th>Sentiment</th>\n",
       "    </tr>\n",
       "  </thead>\n",
       "  <tbody>\n",
       "    <tr>\n",
       "      <th>0</th>\n",
       "      <td>1</td>\n",
       "      <td>1</td>\n",
       "      <td>A series of escapades demonstrating the adage ...</td>\n",
       "      <td>1</td>\n",
       "    </tr>\n",
       "    <tr>\n",
       "      <th>1</th>\n",
       "      <td>2</td>\n",
       "      <td>1</td>\n",
       "      <td>A series of escapades demonstrating the adage ...</td>\n",
       "      <td>2</td>\n",
       "    </tr>\n",
       "    <tr>\n",
       "      <th>2</th>\n",
       "      <td>3</td>\n",
       "      <td>1</td>\n",
       "      <td>A series</td>\n",
       "      <td>2</td>\n",
       "    </tr>\n",
       "    <tr>\n",
       "      <th>3</th>\n",
       "      <td>4</td>\n",
       "      <td>1</td>\n",
       "      <td>A</td>\n",
       "      <td>2</td>\n",
       "    </tr>\n",
       "    <tr>\n",
       "      <th>4</th>\n",
       "      <td>5</td>\n",
       "      <td>1</td>\n",
       "      <td>series</td>\n",
       "      <td>2</td>\n",
       "    </tr>\n",
       "  </tbody>\n",
       "</table>\n",
       "</div>"
      ],
      "text/plain": [
       "   PhraseId  SentenceId                                             Phrase  \\\n",
       "0         1           1  A series of escapades demonstrating the adage ...   \n",
       "1         2           1  A series of escapades demonstrating the adage ...   \n",
       "2         3           1                                           A series   \n",
       "3         4           1                                                  A   \n",
       "4         5           1                                             series   \n",
       "\n",
       "   Sentiment  \n",
       "0          1  \n",
       "1          2  \n",
       "2          2  \n",
       "3          2  \n",
       "4          2  "
      ]
     },
     "execution_count": 94,
     "metadata": {},
     "output_type": "execute_result"
    }
   ],
   "source": [
    "data.head()"
   ]
  },
  {
   "cell_type": "code",
   "execution_count": 95,
   "metadata": {},
   "outputs": [
    {
     "name": "stdout",
     "output_type": "stream",
     "text": [
      "<class 'pandas.core.frame.DataFrame'>\n",
      "RangeIndex: 156060 entries, 0 to 156059\n",
      "Data columns (total 4 columns):\n",
      " #   Column      Non-Null Count   Dtype \n",
      "---  ------      --------------   ----- \n",
      " 0   PhraseId    156060 non-null  int64 \n",
      " 1   SentenceId  156060 non-null  int64 \n",
      " 2   Phrase      156060 non-null  object\n",
      " 3   Sentiment   156060 non-null  int64 \n",
      "dtypes: int64(3), object(1)\n",
      "memory usage: 4.8+ MB\n"
     ]
    }
   ],
   "source": [
    "data.info()"
   ]
  },
  {
   "cell_type": "code",
   "execution_count": 97,
   "metadata": {},
   "outputs": [
    {
     "data": {
      "text/plain": [
       "2    79582\n",
       "3    32927\n",
       "1    27273\n",
       "4     9206\n",
       "0     7072\n",
       "Name: Sentiment, dtype: int64"
      ]
     },
     "execution_count": 97,
     "metadata": {},
     "output_type": "execute_result"
    }
   ],
   "source": [
    "data.Sentiment.value_counts()"
   ]
  },
  {
   "cell_type": "markdown",
   "metadata": {},
   "source": [
    "#### Data Vizualizations"
   ]
  },
  {
   "cell_type": "code",
   "execution_count": 104,
   "metadata": {},
   "outputs": [
    {
     "data": {
      "image/png": "[encoded data removed]",
      "text/plain": [
       "<Figure size 432x288 with 1 Axes>"
      ]
     },
     "metadata": {
      "needs_background": "light"
     },
     "output_type": "display_data"
    }
   ],
   "source": [
    "sentiment_count = data.groupby('Sentiment').count()\n",
    "plt.bar(sentiment_count.index.values, sentiment_count['Phrase'])\n",
    "plt.xlabel('Sentiment')\n",
    "plt.ylabel('Number of Reviews')\n",
    "plt.show()"
   ]
  },
  {
   "cell_type": "markdown",
   "metadata": {},
   "source": [
    "## 2. Feature Generation\n",
    "### 2.1 Bag of Words"
   ]
  },
  {
   "cell_type": "code",
   "execution_count": 106,
   "metadata": {},
   "outputs": [],
   "source": [
    "#tokenizer to remove unwanted elements from out data like symbols and numbers\n",
    "token = RegexpTokenizer(r'[a-zA-Z0-9]+')\n",
    "cv = CountVectorizer(lowercase=True,stop_words='english',ngram_range = (1,1),tokenizer = token.tokenize)\n",
    "text_counts= cv.fit_transform(data['Phrase'])"
   ]
  },
  {
   "cell_type": "code",
   "execution_count": 122,
   "metadata": {},
   "outputs": [
    {
     "name": "stdout",
     "output_type": "stream",
     "text": [
      "  (0, 11671)\t1\n",
      "  (0, 4517)\t1\n",
      "  (0, 3444)\t1\n",
      "  (0, 294)\t1\n",
      "  (0, 5735)\t2\n",
      "  (0, 5751)\t1\n",
      "  (0, 5512)\t1\n",
      "  (0, 9065)\t1\n",
      "  (0, 593)\t1\n",
      "  (0, 584)\t1\n",
      "  (0, 12673)\t1\n"
     ]
    }
   ],
   "source": [
    "print(text_counts[:1])"
   ]
  },
  {
   "cell_type": "code",
   "execution_count": 113,
   "metadata": {},
   "outputs": [],
   "source": [
    "X_train, X_test, y_train, y_test = train_test_split(\n",
    "    text_counts, data['Sentiment'], test_size=0.3, random_state=1)"
   ]
  },
  {
   "cell_type": "code",
   "execution_count": 117,
   "metadata": {},
   "outputs": [
    {
     "name": "stdout",
     "output_type": "stream",
     "text": [
      "Accuracy:  0.6049169122986885\n"
     ]
    }
   ],
   "source": [
    "clf = MultinomialNB().fit(X_train, y_train)\n",
    "predicted = clf.predict(X_test)\n",
    "\n",
    "print(\"Accuracy: \", metrics.accuracy_score(y_test, predicted))"
   ]
  },
  {
   "cell_type": "markdown",
   "metadata": {},
   "source": [
    "### 2.2 Term Frequency - Inverse Document Frequency\n",
    "The problem with BOW, where we count the number of words in each document (term frequency) is that longer sentences will have more weight to longer documents. \n",
    "\n",
    "Inverse Document Frequency measures the amount of information a word provides in the document. log scaled inverse ration of the number of documents that contain the word ant the toal number of documents."
   ]
  },
  {
   "cell_type": "code",
   "execution_count": 120,
   "metadata": {},
   "outputs": [],
   "source": [
    "tf = TfidfVectorizer()\n",
    "text_tf = tf.fit_transform(data['Phrase'])"
   ]
  },
  {
   "cell_type": "code",
   "execution_count": 124,
   "metadata": {},
   "outputs": [],
   "source": [
    "X_train, X_test, y_train, y_test = train_test_split(\n",
    "    text_tf, data['Sentiment'], test_size=0.3, random_state=1)"
   ]
  },
  {
   "cell_type": "code",
   "execution_count": 126,
   "metadata": {},
   "outputs": [
    {
     "name": "stdout",
     "output_type": "stream",
     "text": [
      "Accuracy:  0.5853090691614337\n"
     ]
    }
   ],
   "source": [
    "clf = MultinomialNB().fit(X_train, y_train)\n",
    "predicted = clf.predict(X_test)\n",
    "\n",
    "print(\"Accuracy: \", metrics.accuracy_score(y_test, predicted))"
   ]
  },
  {
   "cell_type": "code",
   "execution_count": null,
   "metadata": {},
   "outputs": [],
   "source": []
  }
 ],
 "metadata": {
  "kernelspec": {
   "display_name": "Python 3",
   "language": "python",
   "name": "python3"
  },
  "language_info": {
   "codemirror_mode": {
    "name": "ipython",
    "version": 3
   },
   "file_extension": ".py",
   "mimetype": "text/x-python",
   "name": "python",
   "nbconvert_exporter": "python",
   "pygments_lexer": "ipython3",
   "version": "3.6.8"
  }
 },
 "nbformat": 4,
 "nbformat_minor": 4
}
